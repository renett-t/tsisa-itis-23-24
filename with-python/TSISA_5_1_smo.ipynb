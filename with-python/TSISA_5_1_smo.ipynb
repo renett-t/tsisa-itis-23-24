{
 "cells": [
  {
   "cell_type": "markdown",
   "source": [
    "**5.1 Part 2**\n",
    "В качестве параметра интенсивности Вашей системы выберите среднюю интенсивность, соответствующую минимальной дисперсии. Предполагая, что процесс стационарен,вычислите\n",
    "1. Среднее время смоделированного Вами периода работы Вашей системы, когда все каналы свободны;\n",
    "2. Среднее время проводимое заявкой в очереди, и/или долю необработанных заявок в зависимости от вида СМО.\n",
    " \n",
    "Параметры СМО с неограниченной очередью и ограниченным временем пребывания в ней:\n",
    "![image.png](smo.png)"
   ],
   "metadata": {
    "collapsed": false
   },
   "id": "bd1614c5045a6331"
  },
  {
   "cell_type": "markdown",
   "source": [
    "Формулы взяла тут: http://www.ieml-math.narod.ru/forstudents/SMO_Param.pdf"
   ],
   "metadata": {
    "collapsed": false
   },
   "id": "971a203431634541"
  },
  {
   "cell_type": "markdown",
   "source": [
    "Стационарный режим работы СМО с неограниченной очередью -> должно выполняться условие ro < n"
   ],
   "metadata": {
    "collapsed": false
   },
   "id": "4c3603ea92beb6cc"
  },
  {
   "cell_type": "code",
   "execution_count": 64,
   "outputs": [],
   "source": [
    "import math"
   ],
   "metadata": {
    "collapsed": false,
    "ExecuteTime": {
     "end_time": "2023-12-16T21:20:09.217246Z",
     "start_time": "2023-12-16T21:20:09.174003Z"
    }
   },
   "id": "63c9979c8c0f31be"
  },
  {
   "cell_type": "code",
   "execution_count": 65,
   "id": "initial_id",
   "metadata": {
    "collapsed": true,
    "ExecuteTime": {
     "end_time": "2023-12-16T21:20:09.253423Z",
     "start_time": "2023-12-16T21:20:09.225172Z"
    }
   },
   "outputs": [],
   "source": [
    "# Число каналов обслуживания, штук\n",
    "n = 20\n",
    "\n",
    "# Максимальная длина очереди, штук. m = infinity, так как неограничено\n",
    "# m = infinity\n",
    "\n",
    "# Среднее время обслуживания одной заявки, в часах?\n",
    "t_avg = 0.002\n",
    "\n",
    "# Интенсивность обслуживания одним каналом, или Среднее число заявок, которые обслуживается одним канал в единицу времени - заявки/час\n",
    "mu = 1 / t_avg\n",
    "\n",
    "# Максимальное время ожидания требованием начала обслуживания. Нужно для систем массового обслуживания с ограниченным временем ожидания\n",
    "# tao = ?\n"
   ]
  },
  {
   "cell_type": "code",
   "execution_count": 66,
   "outputs": [],
   "source": [
    "# Интенсивность внешнего потока - поступления заявок - среднее число поступающих заявок в единицу времени\n",
    "lambd = 3192\n"
   ],
   "metadata": {
    "collapsed": false,
    "ExecuteTime": {
     "end_time": "2023-12-16T21:20:09.276348Z",
     "start_time": "2023-12-16T21:20:09.258358Z"
    }
   },
   "id": "7ae782f9d70219cf"
  },
  {
   "cell_type": "code",
   "execution_count": 67,
   "outputs": [
    {
     "name": "stdout",
     "output_type": "stream",
     "text": [
      "k = 6.384\n",
      "ro = 6.384\n"
     ]
    }
   ],
   "source": [
    "# Интенсивность нагрузки\n",
    "ro = lambd / mu\n",
    "\n",
    "# Среднее число занятых каналов обслуживания (для текущей СМО должно быть ro = k)\n",
    "k = lambd / mu\n",
    "print(f'k = {k}')\n",
    "print(f'ro = {ro}')"
   ],
   "metadata": {
    "collapsed": false,
    "ExecuteTime": {
     "end_time": "2023-12-16T21:20:09.345089Z",
     "start_time": "2023-12-16T21:20:09.283267Z"
    }
   },
   "id": "bd0139e08e7aed21"
  },
  {
   "cell_type": "code",
   "execution_count": 68,
   "outputs": [
    {
     "name": "stdout",
     "output_type": "stream",
     "text": [
      "Абсолютная эффективность обслуживания = 3192, \n",
      "Абсолютная эффективность отказа = 0,\n",
      "lambd = 3192\n"
     ]
    }
   ],
   "source": [
    "# Вероятность отказа в обслуживании\n",
    "p_otk = 0\n",
    "\n",
    "# Вероятность обслуживания\n",
    "Q = 1 - p_otk\n",
    "\n",
    "lambd_eff = lambd * Q\n",
    "lambd_otk = lambd * p_otk\n",
    "\n",
    "print(f'Абсолютная эффективность обслуживания = {lambd_eff}, \\nАбсолютная эффективность отказа = {lambd_otk},\\nlambd = {lambd}')"
   ],
   "metadata": {
    "collapsed": false,
    "ExecuteTime": {
     "end_time": "2023-12-16T21:20:09.357498Z",
     "start_time": "2023-12-16T21:20:09.295189Z"
    }
   },
   "id": "587adf3dd4560336"
  },
  {
   "cell_type": "code",
   "execution_count": 69,
   "outputs": [
    {
     "name": "stdout",
     "output_type": "stream",
     "text": [
      "Вероятность (доля времени) того, что все каналы свободны: 0.0016883553640663724\n",
      "Вероятность того, что все каналы обслуживания заняты: 1.2887754805295302e-05\n",
      "Средняя длина очереди, заявки: 6.042554838205436e-06\n",
      "Среднее время пребывания заявки в очереди: 1.893030964350074e-09\n"
     ]
    }
   ],
   "source": [
    "# pi - p итая -  вероятность того, что занято ровно i каналов обслуживания или доля\n",
    "# общего времени работы СМО в течении которого заняты ровно i каналов. \n",
    "\n",
    "# OverflowError: (34, 'Result too large')\n",
    "sum = 0\n",
    "for k in range(0, n + 1):\n",
    "    sum += pow(ro, k) / math.factorial(k)\n",
    "sum = sum + (pow(ro, n) / math.factorial(n)) * (ro / (n - ro))\n",
    "p0 = pow(sum, -1)\n",
    "print(f'Вероятность (доля времени) того, что все каналы свободны: {p0}') \n",
    "\n",
    "pZ = pow(ro, n) * n * p0 / (math.factorial(n) * (n - ro))\n",
    "print(f'Вероятность того, что все каналы обслуживания заняты: {pZ}')\n",
    "\n",
    "L_o = (ro * pZ) / (n - ro) \n",
    "print(f'Средняя длина очереди, заявки: {L_o}')\n",
    "\n",
    "W_o = L_o / lambd_eff\n",
    "print(f'Среднее время пребывания заявки в очереди: {W_o}')"
   ],
   "metadata": {
    "collapsed": false,
    "ExecuteTime": {
     "end_time": "2023-12-16T21:20:09.359246Z",
     "start_time": "2023-12-16T21:20:09.322545Z"
    }
   },
   "id": "f0bc8d04d7005f11"
  },
  {
   "cell_type": "code",
   "execution_count": 70,
   "outputs": [
    {
     "name": "stdout",
     "output_type": "stream",
     "text": [
      "Среднее кол-во (w + q) заявок в системе: 20.000006042554837\n",
      "Среднее время, проводимое заявкой в cистеме: 0.006265666053431967\n"
     ]
    }
   ],
   "source": [
    "# Среднее кол-во заявок в системе, ожидающих начала обслуживания в очереди и обслуживаемых в СМО\n",
    "L_c = L_o + k\n",
    "print(f'Среднее кол-во (w + q) заявок в системе: {L_c}')\n",
    "\n",
    "# Среднее время, которое один клиент проводит в ожидании начала обслуживания\n",
    "W_c = L_c / lambd_eff\n",
    "print(f'Среднее время, проводимое заявкой в cистеме: {W_c}')"
   ],
   "metadata": {
    "collapsed": false,
    "ExecuteTime": {
     "end_time": "2023-12-16T21:20:09.453160Z",
     "start_time": "2023-12-16T21:20:09.366714Z"
    }
   },
   "id": "e7cf45a08ea62d8b"
  }
 ],
 "metadata": {
  "kernelspec": {
   "display_name": "Python 3",
   "language": "python",
   "name": "python3"
  },
  "language_info": {
   "codemirror_mode": {
    "name": "ipython",
    "version": 2
   },
   "file_extension": ".py",
   "mimetype": "text/x-python",
   "name": "python",
   "nbconvert_exporter": "python",
   "pygments_lexer": "ipython2",
   "version": "2.7.6"
  }
 },
 "nbformat": 4,
 "nbformat_minor": 5
}
