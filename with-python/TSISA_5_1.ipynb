{
 "cells": [
  {
   "cell_type": "markdown",
   "source": [
    "**5.1**  Система массового обслуживания. <br/>\n",
    "В файле order.csv имеется информация о времени прихода заявки. \n",
    "Смоделируйте систему массового обслуживания согласно Вашему варианту. (Регина - **с неограниченной очередью**)\n",
    "Для выявления участков стационарности процесса проведите оценки интенсивности в определённых промежутках времени."
   ],
   "metadata": {
    "collapsed": false
   },
   "id": "f39e54a165246b95"
  },
  {
   "cell_type": "markdown",
   "source": [
    "1) Постройте статистические ряды количества заявок в течение часа за каждые три дня Вашего набора данных.\n",
    "Номер часа      1 … 72\n",
    "Кол.-во заявок\n",
    "Вычислите выборочные среднюю и дисперсию полученного статистического ряда.\n",
    " \n",
    "2) Постройте статистический ряд количества заявок в течение дня за месяц\n",
    "Номер дня        1 …30(или 28, 29, 31)\n",
    "Кол.-во заявок\n",
    "Вычислите выборочные среднюю и дисперсию полученного статистического ряда. Единицы измерения полученных характеристик переведите в кол. заявок/час.\n",
    " \n",
    "3) Воспользуйтесь данными двух месяцев, соседних Вашему варианту. Постройте статистический ряд количества заявок в течение понедельника за три месяца\n",
    "Номер понедельника 1 … 13\n",
    "Кол.-во заявок\n",
    "Вычислите выборочные среднюю и дисперсию полученного статистического ряда. Единицы измерения полученных характеристик переведите в кол. заявок/час.\n",
    "\n",
    "4) Воспользуйтесь данными двух месяцев, соседних Вашему варианту. Постройте статистический ряд количества заявок в течение воскресенья за три месяца\n",
    "Номер воскресенья 1 … 13\n",
    "Кол.-во заявок\n",
    "Вычислите выборочные среднюю и дисперсию полученного статистического ряда. Единицы измерения полученных характеристик переведите в кол. заявок/час.\n",
    " \n",
    "5) Воспользуйтесь данными двух месяцев, соседних Вашему варианту. Постройте статистический ряд количества заявок в течение недели за три месяца\n",
    "Номер недели 1 … 13\n",
    "Кол.-во заявок\n",
    "Вычислите выборочные среднюю и дисперсию полученного статистического ряда. Единицы измерения полученных характеристик переведите в кол. заявок/час.\n",
    "\n",
    "6) Воспользуйтесь всем датасетом. Постройте статистический ряд количества заявок в течение месяца за весь период наблюдения.\n",
    "Номер часа 1 … 17\n",
    "Кол.-во заявок\n",
    "Вычислите выборочные среднюю и дисперсию полученного статистического ряда. Единицы измерения полученных характеристик переведите в кол.заявок/час."
   ],
   "metadata": {
    "collapsed": false
   },
   "id": "bc765f83e0cd9147"
  },
  {
   "cell_type": "code",
   "execution_count": 20,
   "id": "initial_id",
   "metadata": {
    "collapsed": true,
    "ExecuteTime": {
     "end_time": "2023-12-16T18:29:17.980804Z",
     "start_time": "2023-12-16T18:28:34.707588Z"
    }
   },
   "outputs": [],
   "source": [
    "import csv\n",
    "from datetime import datetime\n",
    "\n",
    "file_path = 'order.csv'\n",
    "\n",
    "dates = []\n",
    "\n",
    "def parse_date(date_str):\n",
    "    # Пытаемся сначала получить дату с миллисекундами\n",
    "    try:\n",
    "        date_format_with_microseconds = '%Y-%m-%d %H:%M:%S.%f'\n",
    "        date_obj = datetime.strptime(date_str, date_format_with_microseconds)\n",
    "    except ValueError:\n",
    "        # Если не удалось, пробуем получить дату без миллисекунд\n",
    "        date_format_without_microseconds = '%Y-%m-%d %H:%M:%S'\n",
    "        date_obj = datetime.strptime(date_str, date_format_without_microseconds)\n",
    "    \n",
    "    return date_obj\n",
    "\n",
    "with open(file_path, 'r') as file:\n",
    "    csv_reader = csv.reader(file)\n",
    "\n",
    "    # Пропускаем заголовок, если он есть\n",
    "    # next(csv_reader, None)\n",
    "\n",
    "    # Итерируем по строкам файла, преобразуем строку даты в объект datetime и добавляем его в список\n",
    "    for row in csv_reader:\n",
    "        date_str = row[0]\n",
    "        \n",
    "        date_obj = parse_date(date_str)\n",
    "        dates.append(date_obj)"
   ]
  },
  {
   "cell_type": "code",
   "execution_count": 21,
   "outputs": [
    {
     "name": "stdout",
     "output_type": "stream",
     "text": [
      "Всего дат: 2777938\n",
      "Максимальное: 2023-09-30 23:59:12.498000\n",
      "Минимальное: 2021-09-01 00:06:55.923000\n"
     ]
    }
   ],
   "source": [
    "print(f'Всего дат: {len(dates)}')\n",
    "\n",
    "# Нахождение максимальной и минимальной даты\n",
    "max_date = max(dates)\n",
    "min_date = min(dates)\n",
    "\n",
    "print(f'Максимальное: {max_date}')\n",
    "print(f'Минимальное: {min_date}')"
   ],
   "metadata": {
    "collapsed": false,
    "ExecuteTime": {
     "end_time": "2023-12-16T18:30:16.412772Z",
     "start_time": "2023-12-16T18:30:16.406999Z"
    }
   },
   "id": "febc167fe3969bef"
  },
  {
   "cell_type": "code",
   "execution_count": 53,
   "outputs": [],
   "source": [
    "import numpy as np\n",
    "\n",
    "seconds_in_day = 60 * 60 * 24\n",
    "hours_in_week = 24 * 7"
   ],
   "metadata": {
    "collapsed": false,
    "ExecuteTime": {
     "end_time": "2023-12-16T19:24:09.623021Z",
     "start_time": "2023-12-16T19:24:09.594924Z"
    }
   },
   "id": "7568c35d113a6b81"
  },
  {
   "cell_type": "code",
   "execution_count": 59,
   "outputs": [
    {
     "name": "stdout",
     "output_type": "stream",
     "text": [
      "Всего заявок за 3 дня: 7983\n",
      "Номер часа\t1\t2\t3\t4\t5\t6\t7\t8\t9\t10\t11\t12\t13\t14\t15\t16\t17\t18\t19\t20\t21\t22\t23\t24\t25\t26\t27\t28\t29\t30\t31\t32\t33\t34\t35\t36\t37\t38\t39\t40\t41\t42\t43\t44\t45\t46\t47\t48\t49\t50\t51\t52\t53\t54\t55\t56\t57\t58\t59\t60\t61\t62\t63\t64\t65\t66\t67\t68\t69\t70\t71\t72\t\n",
      "Заявки\t52\t61\t99\t15\t13\t20\t184\t44\t53\t112\t96\t95\t72\t113\t107\t109\t163\t138\t176\t141\t117\t119\t113\t182\t67\t63\t54\t144\t31\t14\t193\t41\t28\t58\t116\t90\t77\t101\t149\t148\t191\t132\t132\t123\t103\t121\t209\t94\t146\t45\t89\t38\t43\t124\t45\t83\t59\t98\t109\t115\t139\t119\t212\t229\t154\t141\t160\t192\t131\t282\t166\t191\t\n",
      "\n",
      "Выборочное среднее: 110.88\n",
      "Дисперсия: 3192.14\n"
     ]
    }
   ],
   "source": [
    "# 1. Заявки в течение каждого часа за три дня\n",
    "\n",
    "start_date = datetime.strptime('2023-01-11 00:00:00.000', '%Y-%m-%d %H:%M:%S.%f')\n",
    "end_date = datetime.strptime('2023-01-13 23:59:59.999', '%Y-%m-%d %H:%M:%S.%f')\n",
    "\n",
    "# Отфильтровать даты в пределах указанного интервала\n",
    "date_objects_filtered = [date_obj for date_obj in dates if start_date <= date_obj <= end_date]\n",
    "print(f'Всего заявок за 3 дня: {len(date_objects_filtered)}')\n",
    "\n",
    "data_by_hour = [0] * 72\n",
    "\n",
    "for date_obj in date_objects_filtered:\n",
    "    # Используем total_seconds() для вычисления разницы в секундах между start_date и текущей датой\n",
    "    hours_passed_floating = (date_obj - start_date).total_seconds() / 3600\n",
    "    hours_passed = int(hours_passed_floating)\n",
    "    # print(f'hours_passed_floating = {hours_passed_floating}, hours_passed = {hours_passed}')\n",
    "    # 0.2 -> 0, 0.5 -> 0, 0.8 -> 0, 1.01 -> 1\n",
    "    \n",
    "    if 0 <= hours_passed < 72:\n",
    "        data_by_hour[hours_passed] += 1\n",
    "\n",
    "print(\"Номер часа\", end='\\t')\n",
    "for hour in range(72):\n",
    "    print(f\"{hour + 1}\", end='\\t')\n",
    "print()\n",
    "print(\"Заявки\", end='\\t')\n",
    "for count in data_by_hour:\n",
    "    print(count, end='\\t')\n",
    "print()\n",
    "\n",
    "mean_value_per_hour_by_three_days = np.mean(data_by_hour)\n",
    "variance_value_per_hour_by_three_days = np.var(data_by_hour)\n",
    "\n",
    "print(f\"\\nВыборочное среднее: {mean_value_per_hour_by_three_days:.2f}\")\n",
    "print(f\"Дисперсия: {variance_value_per_hour_by_three_days:.2f}\")"
   ],
   "metadata": {
    "collapsed": false,
    "ExecuteTime": {
     "end_time": "2023-12-16T19:26:59.008313Z",
     "start_time": "2023-12-16T19:26:58.768397Z"
    }
   },
   "id": "bd6f0f7534d9f54a"
  },
  {
   "cell_type": "code",
   "execution_count": 77,
   "outputs": [
    {
     "name": "stdout",
     "output_type": "stream",
     "text": [
      "Всего заявок за месяц: 128852\n",
      "Номер дня\t1\t2\t3\t4\t5\t6\t7\t8\t9\t10\t11\t12\t13\t14\t15\t16\t17\t18\t19\t20\t21\t22\t23\t24\t25\t26\t27\t28\t29\t30\t31\t\n",
      "Кол-во заявок\t3597 3782 3748 3899 3125 3604 2677 2969 4399 3522 3948 3218 4334 4226 3902 3826 4427 4206 3796 4958 4526 4175 4705 4924 5379 4735 5073 4310 5460 4826 4576 \n",
      "\n",
      "Выборочное среднее: 173.19 заявок/час\n",
      "Дисперсия: 19007.49 заявок/час\n"
     ]
    }
   ],
   "source": [
    "# 2. Cтатистический ряд количества заявок в течение каждого дня за один месяц - март 23\n",
    "\n",
    "start_date = datetime.strptime('2023-03-01 00:00:00.000', '%Y-%m-%d %H:%M:%S.%f')\n",
    "end_date = datetime.strptime('2023-03-31 23:59:59.999', '%Y-%m-%d %H:%M:%S.%f')\n",
    "\n",
    "date_objects_filtered = [date_obj for date_obj in dates if start_date <= date_obj <= end_date]\n",
    "print(f'Всего заявок за месяц: {len(date_objects_filtered)}')\n",
    "\n",
    "data_by_day = [0] * 31\n",
    "\n",
    "for date_obj in date_objects_filtered:\n",
    "    days_passed = int((date_obj - start_date).total_seconds() / seconds_in_day)\n",
    "\n",
    "    if 0 <= days_passed < 31:\n",
    "        data_by_day[days_passed] += 1\n",
    "\n",
    "print(\"Номер дня\", end='\\t')\n",
    "for day in range(1, 32):\n",
    "    print(f\"{day}\", end='\\t')\n",
    "print()\n",
    "\n",
    "print(\"Кол-во заявок\", end='\\t')\n",
    "for day in range(0, 31):\n",
    "    print(data_by_day[day], end=' ')\n",
    "print()\n",
    "\n",
    "mean_value_from_day_by_three_months = np.mean(data_by_day)\n",
    "variance_value_from_day_by_three_months = np.var(data_by_day)\n",
    "\n",
    "# Переводим единицы измерения в кол. заявок/час\n",
    "mean_value_per_hour_from_day_by_three_months = mean_value_from_day_by_three_months / 24\n",
    "variance_value_per_hour_from_day_by_three_months = variance_value_from_day_by_three_months / 24\n",
    "\n",
    "print(f\"\\nВыборочное среднее: {mean_value_per_hour_from_day_by_three_months:.2f} заявок/час\")\n",
    "print(f\"Дисперсия: {variance_value_per_hour_from_day_by_three_months:.2f} заявок/час\")"
   ],
   "metadata": {
    "collapsed": false,
    "ExecuteTime": {
     "end_time": "2023-12-16T20:01:49.565138Z",
     "start_time": "2023-12-16T20:01:49.354669Z"
    }
   },
   "id": "cfee4628607251f4"
  },
  {
   "cell_type": "code",
   "execution_count": 79,
   "outputs": [
    {
     "name": "stdout",
     "output_type": "stream",
     "text": [
      "Всего заявок за три месяца: 381039\n",
      "Номер понедельника\t1\t2\t3\t4\t5\t6\t7\t8\t9\t10\t11\t12\t\n",
      "Кол-во заявок\t3830 4108 4784 3647 3604 4334 4958 5073 4690 5453 5028 5443 \n",
      "\n",
      "Выборочное среднее: 190.81 заявок/час\n",
      "Дисперсия: 16722.61 заявок/час\n"
     ]
    }
   ],
   "source": [
    "# 3. Cтатистический ряд количества заявок в течение каждого понедельника за три месяца. февраль - март - апрель\n",
    "# тут вышло 12 понедельников\n",
    "\n",
    "start_date = datetime.strptime('2023-02-01 00:00:00.000', '%Y-%m-%d %H:%M:%S.%f')\n",
    "end_date = datetime.strptime('2023-04-30 23:59:59.999', '%Y-%m-%d %H:%M:%S.%f')\n",
    "\n",
    "date_objects_filtered_three_months = [date_obj for date_obj in dates if (start_date <= date_obj <= end_date)]\n",
    "\n",
    "print(f'Всего заявок за три месяца: {len(date_objects_filtered_three_months)}')\n",
    "data_by_monday = np.zeros(12, dtype=int)\n",
    "\n",
    "for date_obj in date_objects_filtered_three_months:\n",
    "    if date_obj.weekday() == 0:\n",
    "        days_passed = int((date_obj - start_date).total_seconds() / seconds_in_day)\n",
    "        weeks_passed = days_passed // 7\n",
    "\n",
    "        if 0 <= weeks_passed < 12:\n",
    "            data_by_monday[weeks_passed] += 1\n",
    "\n",
    "print(\"Номер понедельника\", end='\\t')\n",
    "for week in range(1, 13):\n",
    "    print(f\"{week}\", end='\\t')\n",
    "print()\n",
    "\n",
    "print(\"Кол-во заявок\", end='\\t')\n",
    "for week in range(12):\n",
    "    print(data_by_monday[week], end=' ')\n",
    "print()\n",
    "\n",
    "mean_value_from_monday_by_three_months = np.mean(data_by_monday)\n",
    "variance_value_from_monday_by_three_months = np.var(data_by_monday)\n",
    "\n",
    "# Переводим единицы измерения в кол. заявок/час\n",
    "mean_value_per_hour_from_monday_by_three_months = mean_value_from_monday_by_three_months / 24\n",
    "variance_value_per_hour_from_monday_by_three_months = variance_value_from_monday_by_three_months / 24\n",
    "\n",
    "print(f\"\\nВыборочное среднее: {mean_value_per_hour_from_monday_by_three_months:.2f} заявок/час\")\n",
    "print(f\"Дисперсия: {variance_value_per_hour_from_monday_by_three_months:.2f} заявок/час\")"
   ],
   "metadata": {
    "collapsed": false,
    "ExecuteTime": {
     "end_time": "2023-12-16T20:02:52.666963Z",
     "start_time": "2023-12-16T20:02:52.209949Z"
    }
   },
   "id": "47e9d620a52906af"
  },
  {
   "cell_type": "code",
   "execution_count": 82,
   "outputs": [
    {
     "name": "stdout",
     "output_type": "stream",
     "text": [
      "Всего заявок за три месяца: 381039\n",
      "Номер воскресенья\t1\t2\t3\t4\t5\t6\t7\t8\t9\t10\t11\t12\t13\t\n",
      "Кол.-во заявок\t2782 2973 2662 3160 3125 3218 3796 4735 3920 4211 3910 3627 6570 \n",
      "\n",
      "Выборочное среднее: 156.05 заявок/час\n",
      "Дисперсия: 41515.55 заявок/час\n"
     ]
    }
   ],
   "source": [
    "# 4. Статистический ряд количества заявок в течение каждого воскресенья за три месяца.\n",
    "\n",
    "# date_objects_filtered_three_months saved in previous cell\n",
    "print(f'Всего заявок за три месяца: {len(date_objects_filtered_three_months)}')\n",
    "\n",
    "data_by_sunday = np.zeros(13, dtype=int)\n",
    "\n",
    "for date_obj in date_objects_filtered_three_months:\n",
    "    if date_obj.weekday() == 6:\n",
    "        days_passed = int((date_obj - start_date).total_seconds() / seconds_in_day)\n",
    "        weeks_passed = days_passed // 7\n",
    "\n",
    "        if 0 <= weeks_passed < 13:\n",
    "            data_by_sunday[weeks_passed] += 1\n",
    "\n",
    "print(\"Номер воскресенья\", end='\\t')\n",
    "for week in range(1, 14):\n",
    "    print(f\"{week}\", end='\\t')\n",
    "print()\n",
    "\n",
    "print(\"Кол.-во заявок\", end='\\t')\n",
    "for week in range(13):\n",
    "    print(data_by_sunday[week], end=' ')\n",
    "print()\n",
    "\n",
    "mean_value_from_sunday_by_three_months = np.mean(data_by_sunday)\n",
    "variance_value_from_sunday_by_three_months = np.var(data_by_sunday)\n",
    "\n",
    "# Переводим единицы измерения в кол. заявок/час\n",
    "mean_value_per_hour_from_sunday_by_three_months = mean_value_from_sunday_by_three_months / 24\n",
    "variance_value_per_hour_from_sunday_by_three_months = variance_value_from_sunday_by_three_months / 24\n",
    "\n",
    "print(f\"\\nВыборочное среднее: {mean_value_per_hour_from_sunday_by_three_months:.2f} заявок/час\")\n",
    "print(f\"Дисперсия: {variance_value_per_hour_from_sunday_by_three_months:.2f} заявок/час\")"
   ],
   "metadata": {
    "collapsed": false,
    "ExecuteTime": {
     "end_time": "2023-12-16T20:03:31.470949Z",
     "start_time": "2023-12-16T20:03:31.342107Z"
    }
   },
   "id": "71ed485135627e3d"
  },
  {
   "cell_type": "code",
   "execution_count": 83,
   "outputs": [
    {
     "name": "stdout",
     "output_type": "stream",
     "text": [
      "Всего заявок за три месяца: 381039\n",
      "Номер недели\t1\t2\t3\t4\t5\t6\t7\t8\t9\t10\t11\t12\t13\t\n",
      "Кол.-во заявок\t23677\t24946\t27856\t31671\t24432\t26616\t29641\t33301\t32048\t32298\t32629\t33974\t27950\t\n",
      "\n",
      "Выборочное среднее: 174.47 заявок/час\n",
      "Дисперсия: 71701.84 заявок/час\n"
     ]
    }
   ],
   "source": [
    "# 5. Статистический ряд количества заявок в течение недели за три месяца.\n",
    "\n",
    "# date_objects_filtered_three_months saved in previous cell\n",
    "print(f'Всего заявок за три месяца: {len(date_objects_filtered_three_months)}')\n",
    "data_by_week = np.zeros(13, dtype=int)\n",
    "\n",
    "for date_obj in date_objects_filtered_three_months:\n",
    "    days_passed = int((date_obj - start_date).total_seconds() / seconds_in_day)\n",
    "    weeks_passed = days_passed // 7\n",
    "\n",
    "    if 0 <= weeks_passed < 13:\n",
    "        data_by_week[weeks_passed] += 1\n",
    "\n",
    "print(\"Номер недели\", end='\\t')\n",
    "for week in range(1, 14):\n",
    "    print(f\"{week}\", end='\\t')\n",
    "print()\n",
    "\n",
    "print(\"Кол.-во заявок\", end='\\t')\n",
    "for week in range(13):\n",
    "    print(data_by_week[week], end='\\t')\n",
    "print()\n",
    "\n",
    "mean_value_from_week_by_three_months = np.mean(data_by_week)\n",
    "variance_value_from_week_by_three_months = np.var(data_by_week)\n",
    "\n",
    "# Переводим единицы измерения в кол. заявок/час\n",
    "mean_value_per_hour_from_week_by_three_months = mean_value_from_week_by_three_months / (24 * 7)\n",
    "variance_value_per_hour_from_week_by_three_months = variance_value_from_week_by_three_months / (24 * 7)\n",
    "\n",
    "print(f\"\\nВыборочное среднее: {mean_value_per_hour_from_week_by_three_months:.2f} заявок/час\")\n",
    "print(f\"Дисперсия: {variance_value_per_hour_from_week_by_three_months:.2f} заявок/час\")"
   ],
   "metadata": {
    "collapsed": false,
    "ExecuteTime": {
     "end_time": "2023-12-16T20:03:36.980786Z",
     "start_time": "2023-12-16T20:03:36.546513Z"
    }
   },
   "id": "bfef1fe97d970bde"
  },
  {
   "cell_type": "code",
   "execution_count": 84,
   "outputs": [
    {
     "name": "stdout",
     "output_type": "stream",
     "text": [
      "Всего месяцев: 25, count=24\n",
      "Месяц\t\t\t0\t1\t2\t3\t4\t5\t6\t7\t8\t9\t10\t11\t12\t13\t14\t15\t16\t17\t18\t19\t20\t21\t22\t23\t24\t\n",
      "Кол-во заявок\t15224 13113 10107 10459 9325 10519 76544 124606 141152 152191 176677 171810 135901 129862 124483 102994 105995 108150 128852 144037 154799 168442 198348 202232 162116 \n",
      "\n",
      "Выборочное среднее: 154.33 заявок/час\n",
      "Дисперсия: 5439719.89 заявок/час\n"
     ]
    }
   ],
   "source": [
    "# 6. Постройте статистический ряд количества заявок в течение месяца за весь период наблюдения.\n",
    "\n",
    "# min_date & max_date вычислили выше\n",
    "data_by_month = []\n",
    "\n",
    "# Итерируемся по всем датам\n",
    "previous_month = None\n",
    "count = -1\n",
    "\n",
    "for date_obj in dates:\n",
    "    current_month = date_obj.month\n",
    "\n",
    "    # Если месяц отличается от предыдущего сохраненного, начинаем заполнять следующий элемент списка\n",
    "    if current_month != previous_month:\n",
    "        previous_month = current_month\n",
    "        count += 1\n",
    "        data_by_month.append(0)\n",
    "\n",
    "    # Заполняем текущий элемент\n",
    "    data_by_month[count] += 1\n",
    "\n",
    "print(f'Всего месяцев: {len(data_by_month)}, count={count}')\n",
    "\n",
    "print(\"Месяц\", end='\\t\\t\\t')\n",
    "for i in range(len(data_by_month)):\n",
    "    print(i, end='\\t')\n",
    "print()\n",
    "\n",
    "print(\"Кол-во заявок\", end='\\t')\n",
    "for count in data_by_month:\n",
    "    print(count, end=' ')\n",
    "print()\n",
    "\n",
    "mean_value_from_month_by_all = np.mean(data_by_month)\n",
    "variance_value_from_month_by_all = np.var(data_by_month)\n",
    "\n",
    "# Переводим единицы измерения в кол. заявок/час\n",
    "mean_value_per_hour_from_month_by_all = mean_value_from_month_by_all / 720\n",
    "variance_value_per_hour_from_month_by_all = variance_value_from_month_by_all / 720\n",
    "\n",
    "print(f\"\\nВыборочное среднее: {mean_value_per_hour_from_month_by_all:.2f} заявок/час\")\n",
    "print(f\"Дисперсия: {variance_value_per_hour_from_month_by_all:.2f} заявок/час\")"
   ],
   "metadata": {
    "collapsed": false,
    "ExecuteTime": {
     "end_time": "2023-12-16T20:03:42.738156Z",
     "start_time": "2023-12-16T20:03:41.333319Z"
    }
   },
   "id": "db12b100c7ebe9fd"
  },
  {
   "cell_type": "markdown",
   "source": [],
   "metadata": {
    "collapsed": false
   },
   "id": "fd1a391cfe9b12ec"
  },
  {
   "cell_type": "code",
   "execution_count": 102,
   "outputs": [
    {
     "name": "stdout",
     "output_type": "stream",
     "text": [
      "Минимальная дисперсия: 3192.137152777778, максимальная: 5439719.893902222\n"
     ]
    }
   ],
   "source": [
    "# Выберем среднюю интенсивность, соответствующую минимальной дисперсии.\n",
    "variances = [variance_value_per_hour_by_three_days, variance_value_per_hour_from_day_by_three_months, variance_value_per_hour_from_monday_by_three_months,  variance_value_per_hour_from_sunday_by_three_months, variance_value_per_hour_from_week_by_three_months, variance_value_per_hour_from_month_by_all]\n",
    "min_variance = min(variances)\n",
    "max_variance = max(variances)\n",
    "\n",
    "print(f'Минимальная дисперсия: {min_variance}, максимальная: {max_variance}')"
   ],
   "metadata": {
    "collapsed": false,
    "ExecuteTime": {
     "end_time": "2023-12-16T20:28:40.334632Z",
     "start_time": "2023-12-16T20:28:40.301429Z"
    }
   },
   "id": "a44714baf82dda4"
  }
 ],
 "metadata": {
  "kernelspec": {
   "display_name": "Python 3",
   "language": "python",
   "name": "python3"
  },
  "language_info": {
   "codemirror_mode": {
    "name": "ipython",
    "version": 2
   },
   "file_extension": ".py",
   "mimetype": "text/x-python",
   "name": "python",
   "nbconvert_exporter": "python",
   "pygments_lexer": "ipython2",
   "version": "2.7.6"
  }
 },
 "nbformat": 4,
 "nbformat_minor": 5
}
